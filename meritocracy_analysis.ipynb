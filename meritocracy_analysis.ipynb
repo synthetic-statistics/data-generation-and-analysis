{
 "cells": [
  {
   "cell_type": "code",
   "execution_count": null,
   "id": "cd914ecb-0ec2-42f8-9a42-2b79da26261e",
   "metadata": {},
   "outputs": [],
   "source": [
    "import numpy as np\n",
    "import matplotlib.pyplot as plt\n",
    "import matplotlib as mpl\n",
    "import pandas as pd\n",
    "import analysis_functions as af"
   ]
  },
  {
   "cell_type": "code",
   "execution_count": null,
   "id": "2bdeafcf-19ab-4e65-8cff-ea2a7da1c62d",
   "metadata": {},
   "outputs": [],
   "source": [
    "filename=\"meritocracy_simulation.csv\"\n",
    "#filename=\"meritocracy_simulation_big.csv\"\n",
    "df=pd.read_csv(filename)"
   ]
  },
  {
   "cell_type": "code",
   "execution_count": null,
   "id": "46fc47c0-c278-4374-b09b-553edded4568",
   "metadata": {},
   "outputs": [],
   "source": [
    "df"
   ]
  },
  {
   "cell_type": "code",
   "execution_count": null,
   "id": "578b7912-e046-4e1d-9c1c-7383c6d3358a",
   "metadata": {},
   "outputs": [],
   "source": []
  },
  {
   "cell_type": "markdown",
   "id": "662d399c-1161-4a76-aa3d-45e1f9d3aaf4",
   "metadata": {},
   "source": [
    "# Additional Columns"
   ]
  },
  {
   "cell_type": "code",
   "execution_count": null,
   "id": "6f497196-6f11-4c99-8b43-1831b936b84e",
   "metadata": {},
   "outputs": [],
   "source": [
    "af.split_dataset(df,40)"
   ]
  },
  {
   "cell_type": "code",
   "execution_count": null,
   "id": "0b8d025e-3e9a-4541-a901-2188bc98b3d1",
   "metadata": {},
   "outputs": [],
   "source": [
    "af.make_filters_from_nominal_variable(df,\"personality\")\n",
    "df[\"not_normal_filter\"]=np.invert(df[\"normal_filter\"])"
   ]
  },
  {
   "cell_type": "code",
   "execution_count": null,
   "id": "8dee43e9-94ca-4699-9c24-9bf221033c48",
   "metadata": {},
   "outputs": [],
   "source": [
    "df[\"time_in_company\"]=df[\"promotion_time\"]-df[\"entry_time\"]"
   ]
  },
  {
   "cell_type": "code",
   "execution_count": null,
   "id": "d5b3f2cf-b3dc-47ae-a225-8b6d4590ae96",
   "metadata": {},
   "outputs": [],
   "source": [
    "af.create_time_since_last_win_col(df)"
   ]
  },
  {
   "cell_type": "code",
   "execution_count": null,
   "id": "118cfeef-fcef-42f2-8e82-40799c6109d5",
   "metadata": {},
   "outputs": [],
   "source": [
    "af.create_single_point_per_group_filter(df)"
   ]
  },
  {
   "cell_type": "code",
   "execution_count": null,
   "id": "34e2c9aa-473a-4270-8430-1a563f6b8c3d",
   "metadata": {},
   "outputs": [],
   "source": [
    "af.group_shares_to_unique_string(df) # \"n-o-c\""
   ]
  },
  {
   "cell_type": "code",
   "execution_count": null,
   "id": "4f80628c-c4a0-492f-b08f-c1227a9bffef",
   "metadata": {},
   "outputs": [],
   "source": [
    "af.make_filters_from_nominal_variable(df,\"group_composition_n-o-c\")"
   ]
  },
  {
   "cell_type": "code",
   "execution_count": null,
   "id": "1fc8c6e2-7ea4-44c8-91aa-ada2f94e3829",
   "metadata": {},
   "outputs": [],
   "source": [
    "all_grouptypes,initial_prob=af.initial_probabilities([0.5,0.25,0.25],group_size=5)\n",
    "print(all_grouptypes)\n",
    "len(all_grouptypes)"
   ]
  },
  {
   "cell_type": "code",
   "execution_count": null,
   "id": "5b639fce-66b2-4535-8c78-e51cc7cc4b73",
   "metadata": {},
   "outputs": [],
   "source": [
    "# in order of ascending probability\n",
    "grouptype_ordering_index=np.argsort(initial_prob)\n",
    "initial_prob=initial_prob[grouptype_ordering_index]\n",
    "all_grouptypes=np.array(all_grouptypes)[grouptype_ordering_index]"
   ]
  },
  {
   "cell_type": "code",
   "execution_count": null,
   "id": "0e6af555-e99d-469a-bcca-7640a76d7c19",
   "metadata": {},
   "outputs": [],
   "source": [
    "# not important, just to notice that not all grouptypes occur in the dataset\n",
    "unique_grouptypes=np.unique(df[\"group_composition_n-o-c\"])\n",
    "len(unique_grouptypes)"
   ]
  },
  {
   "cell_type": "code",
   "execution_count": null,
   "id": "fc697fc7-3a4f-41ee-80f9-05aba879e276",
   "metadata": {},
   "outputs": [],
   "source": [
    "group_comp_hist=af.group_composition_occurence_frequency(df,all_grouptypes,filter_bool=df[\"time_step\"]==0)\n",
    "group_comp_hist=np.array(group_comp_hist)/np.sum(group_comp_hist)\n",
    "\n",
    "plt.bar(np.arange(len(initial_prob))+0.2,group_comp_hist,width=0.4,label=\"actually occuring distribution\")\n",
    "plt.bar(np.arange(len(initial_prob))-0.2,initial_prob,width=.4,label=\"probability due to population distr.\")\n",
    "\n",
    "plt.xticks(np.arange(len(initial_prob)),all_grouptypes,rotation=90)\n",
    "plt.xlabel(\"goup composition n-o-c\")\n",
    "plt.ylabel(\"probability\")\n",
    "plt.legend()\n",
    "plt.show()"
   ]
  },
  {
   "cell_type": "code",
   "execution_count": null,
   "id": "d4335e58-635e-474d-a5ef-5be7ef81e483",
   "metadata": {},
   "outputs": [],
   "source": [
    "\"\"\"\n",
    "group_comp_hist=af.group_composition_occurence_frequency(df,all_grouptypes,filter_bool=df[\"time_step\"]==0)\n",
    "group_comp_hist=np.array(group_comp_hist)/np.sum(group_comp_hist)\n",
    "\n",
    "plt.bar(np.arange(len(initial_prob))+0.2,group_comp_hist,width=0.4,label=\"actually occuring distribution\")\n",
    "plt.bar(np.arange(len(initial_prob))-0.2,initial_prob,width=.4,label=\"probability due to population distr.\")\n",
    "\n",
    "plt.xticks(np.arange(len(initial_prob)),all_grouptypes,rotation=90)\n",
    "plt.xlabel(\"goup composition n-o-c\")\n",
    "plt.ylabel(\"probability\")\n",
    "plt.legend()\n",
    "plt.title(\"big dataset\")\n",
    "plt.show()\n",
    "\"\"\""
   ]
  },
  {
   "cell_type": "code",
   "execution_count": null,
   "id": "2781b9f9-dc36-4363-8b2e-63906ad3f3a8",
   "metadata": {},
   "outputs": [],
   "source": [
    "group_comp_hist=af.group_composition_occurence_frequency(df,all_grouptypes,filter_bool=df[\"static\"])\n",
    "group_comp_hist=np.array(group_comp_hist)/np.sum(group_comp_hist)\n",
    "\n",
    "plt.bar(np.arange(len(initial_prob))+0.2,group_comp_hist,width=0.4,label=\"actually occuring distribution\")\n",
    "plt.bar(np.arange(len(initial_prob))-0.2,initial_prob,width=.4,label=\"probability due to population distr.\")\n",
    "\n",
    "plt.xticks(np.arange(len(initial_prob)),all_grouptypes,rotation=90)\n",
    "plt.xlabel(\"goup composition n-o-c\")\n",
    "plt.ylabel(\"probability\")\n",
    "plt.legend()\n",
    "plt.show()"
   ]
  },
  {
   "cell_type": "code",
   "execution_count": null,
   "id": "9db52b68-a9d6-41d3-8ae3-30260464f9db",
   "metadata": {},
   "outputs": [],
   "source": []
  },
  {
   "cell_type": "code",
   "execution_count": null,
   "id": "34a15121-1c2b-4834-8872-dcf61effba56",
   "metadata": {},
   "outputs": [],
   "source": [
    "# indiv_groups: cover the group_composition transitions\n",
    "\n",
    "unique_indices,group_codes=af.group_composition_code_to_index(df[\"group_composition_n-o-c\"],all_grouptypes)\n",
    "\n",
    "indiv_groups=[]\n",
    "for i in range(200):\n",
    "    select_group=df[\"group_id\"]==i\n",
    "    indiv_groups.append(unique_indices[df[\"single_point_per_group_filter\"]*select_group])"
   ]
  },
  {
   "cell_type": "code",
   "execution_count": null,
   "id": "abfab795-9b41-4c69-b4a0-379a232fcb76",
   "metadata": {},
   "outputs": [],
   "source": [
    "np.shape(indiv_groups)"
   ]
  },
  {
   "cell_type": "code",
   "execution_count": null,
   "id": "e4719327-e9b4-4079-b60e-26a70e5eed70",
   "metadata": {},
   "outputs": [],
   "source": []
  },
  {
   "cell_type": "code",
   "execution_count": null,
   "id": "b537cd25-19a9-42b8-b167-331ff6693a68",
   "metadata": {},
   "outputs": [],
   "source": [
    "af.intra_group_stats(df)"
   ]
  },
  {
   "cell_type": "code",
   "execution_count": null,
   "id": "7680b745-7cf4-4601-a0d0-af9fb86948e8",
   "metadata": {},
   "outputs": [],
   "source": [
    "af.group_score_change_after_rehiring(df)"
   ]
  },
  {
   "cell_type": "code",
   "execution_count": null,
   "id": "84b83df2-a076-4b47-800a-556d151799cd",
   "metadata": {},
   "outputs": [],
   "source": [
    "af.performance_change_after_rehiring(df)"
   ]
  },
  {
   "cell_type": "code",
   "execution_count": null,
   "id": "3ef0c160-4657-4ad1-a831-89963344771b",
   "metadata": {},
   "outputs": [],
   "source": [
    "af.create_group_score_increased_by_learning(df)"
   ]
  },
  {
   "cell_type": "code",
   "execution_count": null,
   "id": "2e1197ff-4a94-4a34-80f2-68070f2f798c",
   "metadata": {},
   "outputs": [],
   "source": [
    "af.create_performance_increased_by_learning(df)"
   ]
  },
  {
   "cell_type": "code",
   "execution_count": null,
   "id": "fe653f7a-31a5-4bc3-9091-fea54d4171db",
   "metadata": {},
   "outputs": [],
   "source": [
    "af.newest_group_member_and_last_promoted_personality(df)"
   ]
  },
  {
   "cell_type": "code",
   "execution_count": null,
   "id": "0c701922-4eb4-40bd-8055-6fe228539d10",
   "metadata": {},
   "outputs": [],
   "source": [
    "df.keys()"
   ]
  },
  {
   "cell_type": "code",
   "execution_count": null,
   "id": "61405c76-9fde-493c-9944-49fbff996eac",
   "metadata": {},
   "outputs": [],
   "source": [
    "for i in df:\n",
    "    if df[i].dtype==np.double:\n",
    "        df[i]=np.round(df[i],4)"
   ]
  },
  {
   "cell_type": "code",
   "execution_count": null,
   "id": "2d6f60cd-5f0b-4a47-be2a-bb533714e1e5",
   "metadata": {},
   "outputs": [],
   "source": [
    "# save as csv\n",
    "df.to_csv(\"meritocracy_detailed.csv\",index=False,na_rep=\"NA\")             "
   ]
  },
  {
   "cell_type": "code",
   "execution_count": null,
   "id": "007b9aab-93d1-4509-82a6-5ffd070a2348",
   "metadata": {},
   "outputs": [],
   "source": [
    "# save as h5\n",
    "title = 'dataset'\n",
    "with pd.HDFStore('meritocracy_detailed.h5', complevel=9, complib='zlib') as store:\n",
    "    store[title] = df"
   ]
  },
  {
   "cell_type": "code",
   "execution_count": null,
   "id": "b2a4105c-a457-499e-9db0-a61cac269162",
   "metadata": {},
   "outputs": [],
   "source": [
    "# load h5-file\n",
    "title = 'dataset'\n",
    "with pd.HDFStore('test.h5', complevel=9, complib='zlib') as store:\n",
    "    data_retrieved = store[title]\n",
    "data_retrieved"
   ]
  },
  {
   "cell_type": "markdown",
   "id": "4cb6f9a0-b0a8-4405-b283-9de05c6eb0e2",
   "metadata": {},
   "source": [
    "# Plots"
   ]
  },
  {
   "cell_type": "code",
   "execution_count": null,
   "id": "3c64d4b8-d8f7-4594-9cb2-9782d977ad4d",
   "metadata": {},
   "outputs": [],
   "source": [
    "fig,ax=af.plot_descr_and_distr(df,\"group_score\",aspect=1.5)"
   ]
  },
  {
   "cell_type": "code",
   "execution_count": null,
   "id": "d0569f52-8749-457e-aabc-c9c927342d79",
   "metadata": {},
   "outputs": [],
   "source": [
    "fig,ax=af.plot_descr_and_distr(df,\"performance\",aspect=1.5)"
   ]
  },
  {
   "cell_type": "code",
   "execution_count": null,
   "id": "09afe25a-ad9c-4af7-8eb4-9ab0ed5d7317",
   "metadata": {},
   "outputs": [],
   "source": [
    "fig,ax=af.plot_descr_and_distr(df,\"performance\",filter_bool=df[\"overachiever_filter\"],aspect=1.5)\n",
    "fig.suptitle(\"overachiever\")\n",
    "plt.show()"
   ]
  },
  {
   "cell_type": "code",
   "execution_count": null,
   "id": "dba780be-7271-4dd3-8388-16f4320d3df5",
   "metadata": {},
   "outputs": [],
   "source": [
    "fig,ax=af.plot_descr_and_distr(df,\"performance\",filter_bool=df[\"charismatic_idiot_filter\"],aspect=1.5)\n",
    "fig.suptitle(\"charismatic idiot\")\n",
    "plt.show()"
   ]
  },
  {
   "cell_type": "code",
   "execution_count": null,
   "id": "f2897f0a-4ee3-4827-bdb3-6b078999cc18",
   "metadata": {},
   "outputs": [],
   "source": [
    "fig,ax=af.plot_descr_and_distr(df,\"performance\",filter_bool=df[\"normal_filter\"],aspect=1.5)\n",
    "fig.suptitle(\"normal\")\n",
    "plt.show()"
   ]
  },
  {
   "cell_type": "code",
   "execution_count": null,
   "id": "803b0a2a-b6a4-43d3-9f17-90e6c252082d",
   "metadata": {},
   "outputs": [],
   "source": [
    "fig,ax=af.plot_descr_and_distr(df,\"group_share_normal\",res=6,aspect=12)"
   ]
  },
  {
   "cell_type": "code",
   "execution_count": null,
   "id": "7a7db8bf-5a44-4425-b62d-5a50856c0a4a",
   "metadata": {},
   "outputs": [],
   "source": [
    "fig,ax=af.plot_descr_and_distr(df,\"group_share_overachiever\",res=6,aspect=12)"
   ]
  },
  {
   "cell_type": "code",
   "execution_count": null,
   "id": "4a30bedd-bc55-4a08-811a-95623e17beb4",
   "metadata": {},
   "outputs": [],
   "source": [
    "fig,ax=af.plot_descr_and_distr(df,\"group_share_charismatic_idiot\",res=6,aspect=12)"
   ]
  },
  {
   "cell_type": "code",
   "execution_count": null,
   "id": "5cc73f54-b49b-4886-9881-7cb563db26ef",
   "metadata": {},
   "outputs": [],
   "source": [
    "fig,ax=af.plot_descr_and_distr(df,\"personality_effect\",filter_bool=df[\"not_normal_filter\"],aspect=2)\n",
    "fig.suptitle(\"not normal\")\n",
    "plt.show()"
   ]
  },
  {
   "cell_type": "code",
   "execution_count": null,
   "id": "01b7ddd6-a831-4308-a082-0fb07bc622d9",
   "metadata": {},
   "outputs": [],
   "source": [
    "fig,ax=af.plot_descr_and_distr(df,\"personality_effect\",res=20,aspect=2,filter_bool=df[\"overachiever_filter\"])\n",
    "fig.suptitle(\"overachiever\")\n",
    "plt.show()"
   ]
  },
  {
   "cell_type": "code",
   "execution_count": null,
   "id": "73dccd99-5b41-4cb7-a6b2-664ab54ca549",
   "metadata": {},
   "outputs": [],
   "source": [
    "fig,ax=af.plot_descr_and_distr(df,\"personality_effect\",res=20,aspect=2,filter_bool=df[\"charismatic_idiot_filter\"])\n",
    "fig.suptitle(\"charismatic idiot\")\n",
    "plt.show()"
   ]
  },
  {
   "cell_type": "code",
   "execution_count": null,
   "id": "c88d6cb5-5f6e-4536-90a7-43c2acab9721",
   "metadata": {},
   "outputs": [],
   "source": []
  },
  {
   "cell_type": "code",
   "execution_count": null,
   "id": "283072a4-0796-456b-b3f8-a11e100e364b",
   "metadata": {},
   "outputs": [],
   "source": []
  },
  {
   "cell_type": "code",
   "execution_count": null,
   "id": "a6e6b73b-f688-4766-9692-26cc30dd7d48",
   "metadata": {},
   "outputs": [],
   "source": [
    "plt.scatter(df[\"time_step\"],df[\"performance\"],alpha=0.01)"
   ]
  },
  {
   "cell_type": "code",
   "execution_count": null,
   "id": "65494e96-aebf-4cec-a565-0f8a89f8597a",
   "metadata": {},
   "outputs": [],
   "source": [
    "fig,ax=af.color_scatterplot(df,\"time_step\",\"performance\",\"group_share_normal\",\"gnuplot\",alpha=0.3,figsize=[12,7])#group_share_charismatic_idiot\",alpha=0.4)"
   ]
  },
  {
   "cell_type": "code",
   "execution_count": null,
   "id": "a545294e-7952-41cf-a4b2-4edf8cc225dd",
   "metadata": {},
   "outputs": [],
   "source": [
    "fig,ax=af.color_scatterplot(df,\"time_step\",\"performance\",\"group_share_overachiever\",\"gnuplot\",alpha=0.3,clims=[0,1],figsize=[12,7])#group_share_charismatic_idiot\",alpha=0.4)"
   ]
  },
  {
   "cell_type": "code",
   "execution_count": null,
   "id": "1068b59e-876e-4a12-8805-494ac59136ef",
   "metadata": {},
   "outputs": [],
   "source": [
    "fig,ax=af.color_scatterplot(df,\"time_step\",\"performance\",\"group_share_charismatic_idiot\",\"gnuplot\",alpha=0.3,figsize=[12,7])"
   ]
  },
  {
   "cell_type": "code",
   "execution_count": null,
   "id": "f4183987-8645-44f7-973f-732f39427728",
   "metadata": {},
   "outputs": [],
   "source": []
  },
  {
   "cell_type": "code",
   "execution_count": null,
   "id": "535fc74d-5936-4192-aeeb-6c9115a70758",
   "metadata": {},
   "outputs": [],
   "source": [
    "fig,ax=af.color_scatterplot(df,\"time_step\",\"group_score\",\"group_share_normal\",\"gist_rainbow\",alpha=0.1,figsize=[12,7])"
   ]
  },
  {
   "cell_type": "code",
   "execution_count": null,
   "id": "a273900a-baae-4f07-92f7-a57845cc7204",
   "metadata": {},
   "outputs": [],
   "source": []
  },
  {
   "cell_type": "code",
   "execution_count": null,
   "id": "fdfa1ef7-e1fd-46b8-aa00-599a4e8a301a",
   "metadata": {},
   "outputs": [],
   "source": [
    "# note to each group correspond 5 performance values at each time step"
   ]
  },
  {
   "cell_type": "code",
   "execution_count": null,
   "id": "68bfe2c8-e732-4c67-a9ed-e3c5785c3514",
   "metadata": {},
   "outputs": [],
   "source": [
    "fig,ax=af.color_scatterplot(df,\"group_score\",\"performance\",\"time_step\",\"gnuplot\",alpha=0.3,figsize=[12,7])"
   ]
  },
  {
   "cell_type": "code",
   "execution_count": null,
   "id": "97dbfe51-0a05-4378-9e1e-8c60b2f60b9c",
   "metadata": {},
   "outputs": [],
   "source": [
    "fig,ax=af.color_scatterplot(df,\"group_score\",\"performance\",\"time_step\",\"gnuplot\",filter_bool=df[\"group_winning\"],alpha=0.3,figsize=[12,7])\n",
    "fig.suptitle(\"winning groups\")\n",
    "plt.show()"
   ]
  },
  {
   "cell_type": "code",
   "execution_count": null,
   "id": "122cc500-9ccf-47a7-a4fe-50fafe47f8ab",
   "metadata": {},
   "outputs": [],
   "source": [
    "fig,ax=af.color_scatterplot(df,\"group_score\",\"performance\",\"time_step\",\"gnuplot\",filter_bool=df[\"promotion_time\"],alpha=0.3,figsize=[12,7])\n",
    "fig.suptitle(\"promoted trainees (from winning groups)\")\n",
    "plt.show()"
   ]
  },
  {
   "cell_type": "code",
   "execution_count": null,
   "id": "0f4f04eb-c10b-4bc5-8da6-0e575aa58674",
   "metadata": {},
   "outputs": [],
   "source": [
    "fig,ax=af.color_scatterplot(df,\"group_score\",\"performance\",\"personality_effect\",\"gnuplot\",filter_bool=df[\"promotion_time\"],alpha=0.3,figsize=[12,7])\n",
    "fig.suptitle(\"promoted trainees (from winning groups)\")\n",
    "plt.show()"
   ]
  },
  {
   "cell_type": "code",
   "execution_count": null,
   "id": "139e2dab-a21f-495f-8542-d217d327a776",
   "metadata": {},
   "outputs": [],
   "source": [
    "fig,ax=af.color_scatterplot(df,\"promotion_time\",\"performance\",\"personality_effect\",\"gnuplot\",alpha=0.3,figsize=[12,7])\n",
    "fig.suptitle(\"performance at time of promotion (from winning groups)\")\n",
    "plt.show()"
   ]
  },
  {
   "cell_type": "code",
   "execution_count": null,
   "id": "9a385194-d3ee-4889-8b2a-045efd8f69e7",
   "metadata": {},
   "outputs": [],
   "source": []
  },
  {
   "cell_type": "code",
   "execution_count": null,
   "id": "bc3f5427-56e0-47d4-abf9-ae614ca9cf31",
   "metadata": {},
   "outputs": [],
   "source": []
  },
  {
   "cell_type": "code",
   "execution_count": null,
   "id": "e28dea34-7397-46cd-a60d-2e3c04abb585",
   "metadata": {},
   "outputs": [],
   "source": []
  },
  {
   "cell_type": "code",
   "execution_count": null,
   "id": "9c589c32-0ba1-4099-9ede-671229f6bbb3",
   "metadata": {},
   "outputs": [],
   "source": [
    "fig,ax=af.color_scatterplot(df,\"group_score\",\"promotion_time\",\"personality_effect\",\"gnuplot\",alpha=0.3,figsize=[12,7])\n",
    "fig.suptitle(\"promoted trainees (from winning groups)\")\n",
    "plt.show()"
   ]
  },
  {
   "cell_type": "code",
   "execution_count": null,
   "id": "1e072c96-0b5d-49d2-b56e-d42620b3bf1d",
   "metadata": {},
   "outputs": [],
   "source": [
    "\n",
    "\n",
    "fig,ax=af.color_scatterplot(df,\"performance\",\"time_in_company\",\"personality_effect\",\"gnuplot\",alpha=0.3,figsize=[12,7])\n",
    "fig.suptitle(\"promoted trainees (from winning groups)\")\n",
    "plt.show()"
   ]
  },
  {
   "cell_type": "code",
   "execution_count": null,
   "id": "e1849ac4-606a-4e6f-a532-928460f07fe3",
   "metadata": {},
   "outputs": [],
   "source": []
  },
  {
   "cell_type": "code",
   "execution_count": null,
   "id": "d41e818b-1d2e-4696-b112-fd08e802f450",
   "metadata": {},
   "outputs": [],
   "source": []
  },
  {
   "cell_type": "code",
   "execution_count": null,
   "id": "35f78aac-0b00-47f8-a175-3901187cd958",
   "metadata": {},
   "outputs": [],
   "source": []
  },
  {
   "cell_type": "code",
   "execution_count": null,
   "id": "2e91a5f4-d9d2-4e62-86bf-c2edc7899758",
   "metadata": {},
   "outputs": [],
   "source": []
  },
  {
   "cell_type": "code",
   "execution_count": null,
   "id": "d33a48cd-e258-48bb-8352-67a41958f4de",
   "metadata": {},
   "outputs": [],
   "source": []
  },
  {
   "cell_type": "code",
   "execution_count": null,
   "id": "c64e9eec-7d97-43e7-bb2e-f95850b38fe1",
   "metadata": {},
   "outputs": [],
   "source": [
    "grouptype=df[\"group_composition_n-o-c\"]==unique_grouptypes[-1]\n",
    "order_stats,normal_stats=af.descriptive_stats(df,\"performance\",filter_bool=grouptype)"
   ]
  },
  {
   "cell_type": "code",
   "execution_count": null,
   "id": "d287e56d-a1da-4107-8ec7-75a1f946175d",
   "metadata": {},
   "outputs": [],
   "source": [
    "plt.plot(normal_stats[:,0])"
   ]
  },
  {
   "cell_type": "code",
   "execution_count": null,
   "id": "8b8982af-95de-4c32-8e1b-caa130213c11",
   "metadata": {},
   "outputs": [],
   "source": [
    "result,cbins=af.distribution_at_timesteps(df,\"performance\",filter_bool=grouptype)\n",
    "plt.imshow(result.T[::-1,:])"
   ]
  },
  {
   "cell_type": "code",
   "execution_count": null,
   "id": "31b2872f-c8d6-4c96-af2e-c33a1f8b51df",
   "metadata": {},
   "outputs": [],
   "source": []
  },
  {
   "cell_type": "code",
   "execution_count": null,
   "id": "faba123f-5814-45f0-8c85-18b13fc5dca8",
   "metadata": {},
   "outputs": [],
   "source": []
  },
  {
   "cell_type": "code",
   "execution_count": null,
   "id": "287227de-5064-42a3-918c-1d9d34455348",
   "metadata": {},
   "outputs": [],
   "source": [
    "N=len(all_grouptypes)\n",
    "for i in range(200):\n",
    "    testx,testy,margin_x,margin_y=af.datachaosrepr_linear(0.02,N,indiv_groups[i])\n",
    "    plt.plot(testx,testy,alpha=0.1,c='b')\n",
    "plt.scatter(margin_x,margin_y,c='r')\n",
    "text_shift=1.15\n",
    "yoffset=-0.05\n",
    "for i in range(len(margin_x)):\n",
    "    plt.text(margin_x[i]*text_shift,margin_y[i]*text_shift+yoffset,group_codes[i],ha=\"center\")\n",
    "size=1.3\n",
    "plt.xlim([-size,size])\n",
    "plt.ylim([-size,size])\n",
    "plt.axis(\"off\")\n",
    "plt.show()"
   ]
  },
  {
   "cell_type": "code",
   "execution_count": null,
   "id": "150fec2e-2ed4-4c39-8e0c-ce2538291c70",
   "metadata": {},
   "outputs": [],
   "source": [
    "for i in range(200):\n",
    "    testx,testy,margin_x,margin_y=af.datachaosrepr(0.5,N,indiv_groups[i])\n",
    "    plt.plot(testx,testy,alpha=0.02,c='b')\n",
    "plt.scatter(margin_x,margin_y,c='r')\n",
    "text_shift=1.15\n",
    "yoffset=-0.05\n",
    "for i in range(len(margin_x)):\n",
    "    plt.text(margin_x[i]*text_shift,margin_y[i]*text_shift+yoffset,group_codes[i],ha=\"center\")\n",
    "size=1.3\n",
    "plt.xlim([-size,size])\n",
    "plt.ylim([-size,size])\n",
    "plt.axis(\"off\")\n",
    "plt.show()"
   ]
  },
  {
   "cell_type": "code",
   "execution_count": null,
   "id": "010469ed-130e-42ca-b689-aed35399ce11",
   "metadata": {},
   "outputs": [],
   "source": []
  },
  {
   "cell_type": "code",
   "execution_count": null,
   "id": "3d3321ae-3539-4163-bb17-3c5fecd4962c",
   "metadata": {},
   "outputs": [],
   "source": [
    "plt.figure(figsize=[8,8])\n",
    "for i in range(200):\n",
    "    rep_filter=af.filter_consecutive_repetitions(indiv_groups[i])\n",
    "    testx,testy,margin_x,margin_y=af.datachaosrepr_linear(.125,N,indiv_groups[i][rep_filter])\n",
    "    plt.plot(testx,testy,'-',alpha=.05,c='b')\n",
    "plt.scatter(margin_x,margin_y,c='r')\n",
    "text_shift=1.15\n",
    "yoffset=-0.05\n",
    "for i in range(len(margin_x)):\n",
    "    plt.text(margin_x[i]*text_shift,margin_y[i]*text_shift+yoffset,group_codes[i],ha=\"center\")\n",
    "size=1.3\n",
    "plt.xlim([-size,size])\n",
    "plt.ylim([-size,size])\n",
    "plt.axis(\"off\")\n",
    "plt.show()"
   ]
  },
  {
   "cell_type": "code",
   "execution_count": null,
   "id": "df27fad0-f40f-481f-9d88-2b8bfa878465",
   "metadata": {},
   "outputs": [],
   "source": [
    "for i in range(200):\n",
    "    rep_filter=af.filter_consecutive_repetitions(indiv_groups[i])\n",
    "    testx,testy,margin_x,margin_y=af.datachaosrepr(1,N,indiv_groups[i][rep_filter])\n",
    "    plt.plot(testx,testy,alpha=0.01,c='b')\n",
    "plt.scatter(margin_x,margin_y,c='r')\n",
    "text_shift=1.15\n",
    "yoffset=-0.05\n",
    "for i in range(len(margin_x)):\n",
    "    plt.text(margin_x[i]*text_shift,margin_y[i]*text_shift+yoffset,group_codes[i],ha=\"center\")\n",
    "size=1.3\n",
    "plt.xlim([-size,size])\n",
    "plt.ylim([-size,size])\n",
    "plt.axis(\"off\")\n",
    "plt.show()"
   ]
  },
  {
   "cell_type": "code",
   "execution_count": null,
   "id": "8a9cbf06-220c-4219-89b1-a7af2a716c8e",
   "metadata": {},
   "outputs": [],
   "source": []
  },
  {
   "cell_type": "code",
   "execution_count": null,
   "id": "666e1aad-99ab-4193-996b-09f41c906a59",
   "metadata": {},
   "outputs": [],
   "source": []
  },
  {
   "cell_type": "code",
   "execution_count": null,
   "id": "035d72e0-e8ff-4f69-8ac8-224c2d8fea3e",
   "metadata": {},
   "outputs": [],
   "source": []
  }
 ],
 "metadata": {
  "kernelspec": {
   "display_name": "Python 3 (ipykernel)",
   "language": "python",
   "name": "python3"
  },
  "language_info": {
   "codemirror_mode": {
    "name": "ipython",
    "version": 3
   },
   "file_extension": ".py",
   "mimetype": "text/x-python",
   "name": "python",
   "nbconvert_exporter": "python",
   "pygments_lexer": "ipython3",
   "version": "3.11.7"
  }
 },
 "nbformat": 4,
 "nbformat_minor": 5
}
